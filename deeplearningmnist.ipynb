{
 "cells": [
  {
   "cell_type": "code",
   "execution_count": 1,
   "id": "457f934f",
   "metadata": {
    "_cell_guid": "b1076dfc-b9ad-4769-8c92-a6c4dae69d19",
    "_uuid": "8f2839f25d086af736a60e9eeb907d3b93b6e0e5",
    "execution": {
     "iopub.execute_input": "2024-06-30T10:10:15.591336Z",
     "iopub.status.busy": "2024-06-30T10:10:15.590891Z",
     "iopub.status.idle": "2024-06-30T10:10:16.708824Z",
     "shell.execute_reply": "2024-06-30T10:10:16.707598Z"
    },
    "papermill": {
     "duration": 1.13113,
     "end_time": "2024-06-30T10:10:16.711874",
     "exception": false,
     "start_time": "2024-06-30T10:10:15.580744",
     "status": "completed"
    },
    "tags": []
   },
   "outputs": [],
   "source": [
    "# This Python 3 environment comes with many helpful analytics libraries installed\n",
    "# It is defined by the kaggle/python Docker image: https://github.com/kaggle/docker-python\n",
    "# For example, here's several helpful packages to load\n",
    "\n",
    "import numpy as np # linear algebra\n",
    "import pandas as pd # data processing, CSV file I/O (e.g. pd.read_csv)\n",
    "\n",
    "# Input data files are available in the read-only \"../input/\" directory\n",
    "# For example, running this (by clicking run or pressing Shift+Enter) will list all files under the input directory\n",
    "\n",
    "import os\n",
    "for dirname, _, filenames in os.walk('/kaggle/input'):\n",
    "    for filename in filenames:\n",
    "        print(os.path.join(dirname, filename))\n",
    "\n",
    "# You can write up to 20GB to the current directory (/kaggle/working/) that gets preserved as output when you create a version using \"Save & Run All\" \n",
    "# You can also write temporary files to /kaggle/temp/, but they won't be saved outside of the current session"
   ]
  },
  {
   "cell_type": "markdown",
   "id": "23525220",
   "metadata": {
    "papermill": {
     "duration": 0.008038,
     "end_time": "2024-06-30T10:10:16.728160",
     "exception": false,
     "start_time": "2024-06-30T10:10:16.720122",
     "status": "completed"
    },
    "tags": []
   },
   "source": [
    "Here I am guided François Chollet's deep learning with python book to complete some of the foundational machine learning problems, starting with classification using the MNIST data set."
   ]
  },
  {
   "cell_type": "markdown",
   "id": "9673740c",
   "metadata": {
    "papermill": {
     "duration": 0.007748,
     "end_time": "2024-06-30T10:10:16.743700",
     "exception": false,
     "start_time": "2024-06-30T10:10:16.735952",
     "status": "completed"
    },
    "tags": []
   },
   "source": [
    "***loading the MNIST dataset in Keras***"
   ]
  },
  {
   "cell_type": "code",
   "execution_count": 2,
   "id": "f05b7bd6",
   "metadata": {
    "execution": {
     "iopub.execute_input": "2024-06-30T10:10:16.760610Z",
     "iopub.status.busy": "2024-06-30T10:10:16.760047Z",
     "iopub.status.idle": "2024-06-30T10:10:34.464982Z",
     "shell.execute_reply": "2024-06-30T10:10:34.463777Z"
    },
    "papermill": {
     "duration": 17.716686,
     "end_time": "2024-06-30T10:10:34.467890",
     "exception": false,
     "start_time": "2024-06-30T10:10:16.751204",
     "status": "completed"
    },
    "tags": []
   },
   "outputs": [
    {
     "name": "stderr",
     "output_type": "stream",
     "text": [
      "2024-06-30 10:10:19.774134: E external/local_xla/xla/stream_executor/cuda/cuda_dnn.cc:9261] Unable to register cuDNN factory: Attempting to register factory for plugin cuDNN when one has already been registered\n",
      "2024-06-30 10:10:19.774272: E external/local_xla/xla/stream_executor/cuda/cuda_fft.cc:607] Unable to register cuFFT factory: Attempting to register factory for plugin cuFFT when one has already been registered\n",
      "2024-06-30 10:10:19.988606: E external/local_xla/xla/stream_executor/cuda/cuda_blas.cc:1515] Unable to register cuBLAS factory: Attempting to register factory for plugin cuBLAS when one has already been registered\n"
     ]
    },
    {
     "name": "stdout",
     "output_type": "stream",
     "text": [
      "Downloading data from https://storage.googleapis.com/tensorflow/tf-keras-datasets/mnist.npz\n",
      "\u001b[1m11490434/11490434\u001b[0m \u001b[32m━━━━━━━━━━━━━━━━━━━━\u001b[0m\u001b[37m\u001b[0m \u001b[1m1s\u001b[0m 0us/step\n"
     ]
    }
   ],
   "source": [
    "from keras.datasets import mnist\n",
    "(train_images, train_labels), (test_images, test_labels) = mnist.load_data()"
   ]
  },
  {
   "cell_type": "code",
   "execution_count": 3,
   "id": "8fe4e22f",
   "metadata": {
    "execution": {
     "iopub.execute_input": "2024-06-30T10:10:34.490795Z",
     "iopub.status.busy": "2024-06-30T10:10:34.489341Z",
     "iopub.status.idle": "2024-06-30T10:10:34.498836Z",
     "shell.execute_reply": "2024-06-30T10:10:34.497565Z"
    },
    "papermill": {
     "duration": 0.022993,
     "end_time": "2024-06-30T10:10:34.501309",
     "exception": false,
     "start_time": "2024-06-30T10:10:34.478316",
     "status": "completed"
    },
    "tags": []
   },
   "outputs": [
    {
     "data": {
      "text/plain": [
       "(60000, 28, 28)"
      ]
     },
     "execution_count": 3,
     "metadata": {},
     "output_type": "execute_result"
    }
   ],
   "source": [
    "train_images.shape"
   ]
  },
  {
   "cell_type": "code",
   "execution_count": 4,
   "id": "b3f3eb19",
   "metadata": {
    "execution": {
     "iopub.execute_input": "2024-06-30T10:10:34.523708Z",
     "iopub.status.busy": "2024-06-30T10:10:34.522390Z",
     "iopub.status.idle": "2024-06-30T10:10:34.530780Z",
     "shell.execute_reply": "2024-06-30T10:10:34.529497Z"
    },
    "papermill": {
     "duration": 0.022425,
     "end_time": "2024-06-30T10:10:34.533426",
     "exception": false,
     "start_time": "2024-06-30T10:10:34.511001",
     "status": "completed"
    },
    "tags": []
   },
   "outputs": [
    {
     "data": {
      "text/plain": [
       "60000"
      ]
     },
     "execution_count": 4,
     "metadata": {},
     "output_type": "execute_result"
    }
   ],
   "source": [
    "len(train_labels)"
   ]
  },
  {
   "cell_type": "code",
   "execution_count": 5,
   "id": "b010e735",
   "metadata": {
    "execution": {
     "iopub.execute_input": "2024-06-30T10:10:34.555029Z",
     "iopub.status.busy": "2024-06-30T10:10:34.554605Z",
     "iopub.status.idle": "2024-06-30T10:10:34.562232Z",
     "shell.execute_reply": "2024-06-30T10:10:34.561039Z"
    },
    "papermill": {
     "duration": 0.021754,
     "end_time": "2024-06-30T10:10:34.564788",
     "exception": false,
     "start_time": "2024-06-30T10:10:34.543034",
     "status": "completed"
    },
    "tags": []
   },
   "outputs": [
    {
     "data": {
      "text/plain": [
       "array([5, 0, 4, ..., 5, 6, 8], dtype=uint8)"
      ]
     },
     "execution_count": 5,
     "metadata": {},
     "output_type": "execute_result"
    }
   ],
   "source": [
    "train_labels"
   ]
  },
  {
   "cell_type": "code",
   "execution_count": 6,
   "id": "11cf775b",
   "metadata": {
    "execution": {
     "iopub.execute_input": "2024-06-30T10:10:34.586147Z",
     "iopub.status.busy": "2024-06-30T10:10:34.585715Z",
     "iopub.status.idle": "2024-06-30T10:10:34.593375Z",
     "shell.execute_reply": "2024-06-30T10:10:34.592126Z"
    },
    "papermill": {
     "duration": 0.02122,
     "end_time": "2024-06-30T10:10:34.595843",
     "exception": false,
     "start_time": "2024-06-30T10:10:34.574623",
     "status": "completed"
    },
    "tags": []
   },
   "outputs": [
    {
     "data": {
      "text/plain": [
       "(10000, 28, 28)"
      ]
     },
     "execution_count": 6,
     "metadata": {},
     "output_type": "execute_result"
    }
   ],
   "source": [
    "test_images.shape"
   ]
  },
  {
   "cell_type": "code",
   "execution_count": 7,
   "id": "6c8b911d",
   "metadata": {
    "execution": {
     "iopub.execute_input": "2024-06-30T10:10:34.618612Z",
     "iopub.status.busy": "2024-06-30T10:10:34.617400Z",
     "iopub.status.idle": "2024-06-30T10:10:34.625761Z",
     "shell.execute_reply": "2024-06-30T10:10:34.624491Z"
    },
    "papermill": {
     "duration": 0.022451,
     "end_time": "2024-06-30T10:10:34.628323",
     "exception": false,
     "start_time": "2024-06-30T10:10:34.605872",
     "status": "completed"
    },
    "tags": []
   },
   "outputs": [
    {
     "data": {
      "text/plain": [
       "10000"
      ]
     },
     "execution_count": 7,
     "metadata": {},
     "output_type": "execute_result"
    }
   ],
   "source": [
    "len(test_labels)"
   ]
  },
  {
   "cell_type": "code",
   "execution_count": 8,
   "id": "07c873f5",
   "metadata": {
    "execution": {
     "iopub.execute_input": "2024-06-30T10:10:34.651178Z",
     "iopub.status.busy": "2024-06-30T10:10:34.650732Z",
     "iopub.status.idle": "2024-06-30T10:10:34.659186Z",
     "shell.execute_reply": "2024-06-30T10:10:34.658020Z"
    },
    "papermill": {
     "duration": 0.023026,
     "end_time": "2024-06-30T10:10:34.661691",
     "exception": false,
     "start_time": "2024-06-30T10:10:34.638665",
     "status": "completed"
    },
    "tags": []
   },
   "outputs": [
    {
     "data": {
      "text/plain": [
       "array([7, 2, 1, ..., 4, 5, 6], dtype=uint8)"
      ]
     },
     "execution_count": 8,
     "metadata": {},
     "output_type": "execute_result"
    }
   ],
   "source": [
    "test_labels"
   ]
  },
  {
   "cell_type": "markdown",
   "id": "2b41e5e3",
   "metadata": {
    "papermill": {
     "duration": 0.009779,
     "end_time": "2024-06-30T10:10:34.681630",
     "exception": false,
     "start_time": "2024-06-30T10:10:34.671851",
     "status": "completed"
    },
    "tags": []
   },
   "source": [
    "***the network architecture***"
   ]
  },
  {
   "cell_type": "code",
   "execution_count": 9,
   "id": "5ca6aa9d",
   "metadata": {
    "execution": {
     "iopub.execute_input": "2024-06-30T10:10:34.704485Z",
     "iopub.status.busy": "2024-06-30T10:10:34.704010Z",
     "iopub.status.idle": "2024-06-30T10:10:34.792627Z",
     "shell.execute_reply": "2024-06-30T10:10:34.791322Z"
    },
    "papermill": {
     "duration": 0.103335,
     "end_time": "2024-06-30T10:10:34.795346",
     "exception": false,
     "start_time": "2024-06-30T10:10:34.692011",
     "status": "completed"
    },
    "tags": []
   },
   "outputs": [
    {
     "name": "stderr",
     "output_type": "stream",
     "text": [
      "/opt/conda/lib/python3.10/site-packages/keras/src/layers/core/dense.py:87: UserWarning: Do not pass an `input_shape`/`input_dim` argument to a layer. When using Sequential models, prefer using an `Input(shape)` object as the first layer in the model instead.\n",
      "  super().__init__(activity_regularizer=activity_regularizer, **kwargs)\n"
     ]
    }
   ],
   "source": [
    "from keras import models\n",
    "from keras import layers\n",
    "\n",
    "network = models.Sequential()\n",
    "network.add(layers.Dense(512, activation='relu', input_shape=(28*28,)))\n",
    "network.add(layers.Dense(10, activation='softmax'))"
   ]
  },
  {
   "cell_type": "markdown",
   "id": "019c4e21",
   "metadata": {
    "papermill": {
     "duration": 0.010333,
     "end_time": "2024-06-30T10:10:34.816200",
     "exception": false,
     "start_time": "2024-06-30T10:10:34.805867",
     "status": "completed"
    },
    "tags": []
   },
   "source": [
    "***the compilation step***"
   ]
  },
  {
   "cell_type": "code",
   "execution_count": 10,
   "id": "f1c59945",
   "metadata": {
    "execution": {
     "iopub.execute_input": "2024-06-30T10:10:34.839308Z",
     "iopub.status.busy": "2024-06-30T10:10:34.838894Z",
     "iopub.status.idle": "2024-06-30T10:10:34.855699Z",
     "shell.execute_reply": "2024-06-30T10:10:34.854377Z"
    },
    "papermill": {
     "duration": 0.031459,
     "end_time": "2024-06-30T10:10:34.858655",
     "exception": false,
     "start_time": "2024-06-30T10:10:34.827196",
     "status": "completed"
    },
    "tags": []
   },
   "outputs": [],
   "source": [
    "network.compile(optimizer='rmsprop',\n",
    "               loss='categorical_crossentropy',\n",
    "               metrics=['accuracy'])"
   ]
  },
  {
   "cell_type": "markdown",
   "id": "768efac2",
   "metadata": {
    "papermill": {
     "duration": 0.009919,
     "end_time": "2024-06-30T10:10:34.879117",
     "exception": false,
     "start_time": "2024-06-30T10:10:34.869198",
     "status": "completed"
    },
    "tags": []
   },
   "source": [
    "***preparing the image data***"
   ]
  },
  {
   "cell_type": "code",
   "execution_count": 11,
   "id": "46035779",
   "metadata": {
    "execution": {
     "iopub.execute_input": "2024-06-30T10:10:34.901466Z",
     "iopub.status.busy": "2024-06-30T10:10:34.901070Z",
     "iopub.status.idle": "2024-06-30T10:10:35.002851Z",
     "shell.execute_reply": "2024-06-30T10:10:35.001551Z"
    },
    "papermill": {
     "duration": 0.116445,
     "end_time": "2024-06-30T10:10:35.005838",
     "exception": false,
     "start_time": "2024-06-30T10:10:34.889393",
     "status": "completed"
    },
    "tags": []
   },
   "outputs": [],
   "source": [
    "digit = train_images[4]\n",
    "train_images = train_images.reshape((60000, 28*28))\n",
    "train_images = train_images.astype('float32') / 255\n",
    "\n",
    "test_images = test_images.reshape((10000, 28*28))\n",
    "test_images = test_images.astype('float32') / 255"
   ]
  },
  {
   "cell_type": "markdown",
   "id": "ae096bf6",
   "metadata": {
    "papermill": {
     "duration": 0.010064,
     "end_time": "2024-06-30T10:10:35.026230",
     "exception": false,
     "start_time": "2024-06-30T10:10:35.016166",
     "status": "completed"
    },
    "tags": []
   },
   "source": [
    "***preparing the labels***"
   ]
  },
  {
   "cell_type": "code",
   "execution_count": 12,
   "id": "2959dddc",
   "metadata": {
    "execution": {
     "iopub.execute_input": "2024-06-30T10:10:35.049144Z",
     "iopub.status.busy": "2024-06-30T10:10:35.048715Z",
     "iopub.status.idle": "2024-06-30T10:10:35.058365Z",
     "shell.execute_reply": "2024-06-30T10:10:35.057275Z"
    },
    "papermill": {
     "duration": 0.024174,
     "end_time": "2024-06-30T10:10:35.061007",
     "exception": false,
     "start_time": "2024-06-30T10:10:35.036833",
     "status": "completed"
    },
    "tags": []
   },
   "outputs": [],
   "source": [
    "from keras.utils import to_categorical\n",
    "\n",
    "train_labels = to_categorical(train_labels)\n",
    "test_labels = to_categorical(test_labels)"
   ]
  },
  {
   "cell_type": "markdown",
   "id": "434b757e",
   "metadata": {
    "papermill": {
     "duration": 0.009805,
     "end_time": "2024-06-30T10:10:35.081132",
     "exception": false,
     "start_time": "2024-06-30T10:10:35.071327",
     "status": "completed"
    },
    "tags": []
   },
   "source": [
    "***fit the model to the data***"
   ]
  },
  {
   "cell_type": "code",
   "execution_count": 13,
   "id": "5f79ff4b",
   "metadata": {
    "execution": {
     "iopub.execute_input": "2024-06-30T10:10:35.103370Z",
     "iopub.status.busy": "2024-06-30T10:10:35.102894Z",
     "iopub.status.idle": "2024-06-30T10:10:52.399935Z",
     "shell.execute_reply": "2024-06-30T10:10:52.398565Z"
    },
    "papermill": {
     "duration": 17.311669,
     "end_time": "2024-06-30T10:10:52.403015",
     "exception": false,
     "start_time": "2024-06-30T10:10:35.091346",
     "status": "completed"
    },
    "tags": []
   },
   "outputs": [
    {
     "name": "stdout",
     "output_type": "stream",
     "text": [
      "Epoch 1/5\n",
      "\u001b[1m469/469\u001b[0m \u001b[32m━━━━━━━━━━━━━━━━━━━━\u001b[0m\u001b[37m\u001b[0m \u001b[1m4s\u001b[0m 7ms/step - accuracy: 0.8732 - loss: 0.4371\n",
      "Epoch 2/5\n",
      "\u001b[1m469/469\u001b[0m \u001b[32m━━━━━━━━━━━━━━━━━━━━\u001b[0m\u001b[37m\u001b[0m \u001b[1m3s\u001b[0m 7ms/step - accuracy: 0.9665 - loss: 0.1167\n",
      "Epoch 3/5\n",
      "\u001b[1m469/469\u001b[0m \u001b[32m━━━━━━━━━━━━━━━━━━━━\u001b[0m\u001b[37m\u001b[0m \u001b[1m3s\u001b[0m 7ms/step - accuracy: 0.9779 - loss: 0.0756\n",
      "Epoch 4/5\n",
      "\u001b[1m469/469\u001b[0m \u001b[32m━━━━━━━━━━━━━━━━━━━━\u001b[0m\u001b[37m\u001b[0m \u001b[1m3s\u001b[0m 7ms/step - accuracy: 0.9846 - loss: 0.0523\n",
      "Epoch 5/5\n",
      "\u001b[1m469/469\u001b[0m \u001b[32m━━━━━━━━━━━━━━━━━━━━\u001b[0m\u001b[37m\u001b[0m \u001b[1m3s\u001b[0m 7ms/step - accuracy: 0.9896 - loss: 0.0374\n"
     ]
    },
    {
     "data": {
      "text/plain": [
       "<keras.src.callbacks.history.History at 0x7e212c5be6b0>"
      ]
     },
     "execution_count": 13,
     "metadata": {},
     "output_type": "execute_result"
    }
   ],
   "source": [
    "network.fit(train_images, train_labels, epochs=5, batch_size=128)"
   ]
  },
  {
   "cell_type": "markdown",
   "id": "61295a36",
   "metadata": {
    "papermill": {
     "duration": 0.041279,
     "end_time": "2024-06-30T10:10:52.486591",
     "exception": false,
     "start_time": "2024-06-30T10:10:52.445312",
     "status": "completed"
    },
    "tags": []
   },
   "source": [
    "***evaluate the model***"
   ]
  },
  {
   "cell_type": "code",
   "execution_count": 14,
   "id": "f389e73a",
   "metadata": {
    "execution": {
     "iopub.execute_input": "2024-06-30T10:10:52.572191Z",
     "iopub.status.busy": "2024-06-30T10:10:52.571753Z",
     "iopub.status.idle": "2024-06-30T10:10:53.498775Z",
     "shell.execute_reply": "2024-06-30T10:10:53.497347Z"
    },
    "papermill": {
     "duration": 0.973989,
     "end_time": "2024-06-30T10:10:53.502080",
     "exception": false,
     "start_time": "2024-06-30T10:10:52.528091",
     "status": "completed"
    },
    "tags": []
   },
   "outputs": [
    {
     "name": "stdout",
     "output_type": "stream",
     "text": [
      "\u001b[1m313/313\u001b[0m \u001b[32m━━━━━━━━━━━━━━━━━━━━\u001b[0m\u001b[37m\u001b[0m \u001b[1m1s\u001b[0m 2ms/step - accuracy: 0.9777 - loss: 0.0729\n"
     ]
    }
   ],
   "source": [
    "test_loss, test_acc = network.evaluate(test_images, test_labels)"
   ]
  },
  {
   "cell_type": "markdown",
   "id": "1ce9008f",
   "metadata": {
    "papermill": {
     "duration": 0.043567,
     "end_time": "2024-06-30T10:10:53.589453",
     "exception": false,
     "start_time": "2024-06-30T10:10:53.545886",
     "status": "completed"
    },
    "tags": []
   },
   "source": [
    "***displaying the fourth digit***"
   ]
  },
  {
   "cell_type": "code",
   "execution_count": 15,
   "id": "8887a88f",
   "metadata": {
    "execution": {
     "iopub.execute_input": "2024-06-30T10:10:53.678534Z",
     "iopub.status.busy": "2024-06-30T10:10:53.678090Z",
     "iopub.status.idle": "2024-06-30T10:10:54.248831Z",
     "shell.execute_reply": "2024-06-30T10:10:54.247597Z"
    },
    "papermill": {
     "duration": 0.617492,
     "end_time": "2024-06-30T10:10:54.251310",
     "exception": false,
     "start_time": "2024-06-30T10:10:53.633818",
     "status": "completed"
    },
    "tags": []
   },
   "outputs": [
    {
     "data": {
      "image/png": "[encoded data removed]",
      "text/plain": [
       "<Figure size 640x480 with 1 Axes>"
      ]
     },
     "metadata": {},
     "output_type": "display_data"
    }
   ],
   "source": [
    "import matplotlib.pyplot as plt\n",
    "plt.imshow(digit, cmap=plt.cm.binary)\n",
    "plt.show()"
   ]
  }
 ],
 "metadata": {
  "kaggle": {
   "accelerator": "none",
   "dataSources": [],
   "dockerImageVersionId": 30732,
   "isGpuEnabled": false,
   "isInternetEnabled": true,
   "language": "python",
   "sourceType": "notebook"
  },
  "kernelspec": {
   "display_name": "Python 3",
   "language": "python",
   "name": "python3"
  },
  "language_info": {
   "codemirror_mode": {
    "name": "ipython",
    "version": 3
   },
   "file_extension": ".py",
   "mimetype": "text/x-python",
   "name": "python",
   "nbconvert_exporter": "python",
   "pygments_lexer": "ipython3",
   "version": "3.10.13"
  },
  "papermill": {
   "default_parameters": {},
   "duration": 44.183529,
   "end_time": "2024-06-30T10:10:55.921759",
   "environment_variables": {},
   "exception": null,
   "input_path": "__notebook__.ipynb",
   "output_path": "__notebook__.ipynb",
   "parameters": {},
   "start_time": "2024-06-30T10:10:11.738230",
   "version": "2.5.0"
  }
 },
 "nbformat": 4,
 "nbformat_minor": 5
}
